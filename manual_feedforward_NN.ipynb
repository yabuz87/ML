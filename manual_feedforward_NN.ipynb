{
 "cells": [
  {
   "cell_type": "code",
   "execution_count": 1,
   "id": "9f41ea66-c786-4414-9b16-ebf9b3cc1864",
   "metadata": {},
   "outputs": [],
   "source": [
    "import numpy as np\n",
    "import tensorflow as tf\n",
    "from tensorflow.keras.datasets import mnist\n",
    "from tensorflow.keras.utils import to_categorical"
   ]
  },
  {
   "cell_type": "code",
   "execution_count": 2,
   "id": "1e93a970-4437-4c11-840e-dac44ee5b8bc",
   "metadata": {},
   "outputs": [],
   "source": [
    "# Load and prepare data\n",
    "(x_train, y_train), _ = mnist.load_data()\n",
    "x_train = x_train.reshape(-1, 784).astype(np.float32) / 255.0\n",
    "y_train = to_categorical(y_train, 10)"
   ]
  },
  {
   "cell_type": "code",
   "execution_count": 3,
   "id": "0b3c7942-ac14-4ae3-b89d-75c809a12845",
   "metadata": {},
   "outputs": [],
   "source": [
    "# Parameters\n",
    "input_size = 784\n",
    "hidden_size = 128\n",
    "output_size = 10\n",
    "batch_size = 64\n",
    "epochs = 7\n",
    "learning_rate = 0.01"
   ]
  },
  {
   "cell_type": "code",
   "execution_count": 4,
   "id": "d7b7e146-dfa9-4d23-9e70-dc3516041789",
   "metadata": {},
   "outputs": [],
   "source": [
    "# Initialize weights (same sizes as in predictive coding)\n",
    "tf.random.set_seed(42)\n",
    "W1 = tf.Variable(tf.random.normal((input_size, hidden_size), stddev=0.01))  # notice: input x W1\n",
    "b1 = tf.Variable(tf.zeros([hidden_size]))\n",
    "\n",
    "W2 = tf.Variable(tf.random.normal((hidden_size, output_size), stddev=0.01))\n",
    "b2 = tf.Variable(tf.zeros([output_size]))"
   ]
  },
  {
   "cell_type": "code",
   "execution_count": 5,
   "id": "3ece523c-c5b0-45b9-a795-1e4cac758796",
   "metadata": {},
   "outputs": [],
   "source": [
    "# Activation functions\n",
    "def relu(x):\n",
    "    return tf.maximum(0, x)\n",
    "\n",
    "def softmax(x):\n",
    "    e_x = tf.exp(x - tf.reduce_max(x, axis=1, keepdims=True))\n",
    "    return e_x / (tf.reduce_sum(e_x, axis=1, keepdims=True) + 1e-9)"
   ]
  },
  {
   "cell_type": "code",
   "execution_count": 6,
   "id": "a52bbb40-d8ee-4894-9fb4-24fcf1d4e07c",
   "metadata": {},
   "outputs": [
    {
     "name": "stdout",
     "output_type": "stream",
     "text": [
      "Epoch 1: Accuracy = 57.33%\n",
      "Epoch 2: Accuracy = 83.17%\n",
      "Epoch 3: Accuracy = 87.67%\n",
      "Epoch 4: Accuracy = 89.14%\n",
      "Epoch 5: Accuracy = 89.99%\n",
      "Epoch 6: Accuracy = 90.59%\n",
      "Epoch 7: Accuracy = 91.04%\n"
     ]
    }
   ],
   "source": [
    "# Training loop\n",
    "for epoch in range(epochs):\n",
    "    total_correct = 0\n",
    "    total_samples = 0\n",
    "\n",
    "    for i in range(0, x_train.shape[0], batch_size):\n",
    "        x_batch = x_train[i:i+batch_size]\n",
    "        y_batch = y_train[i:i+batch_size]\n",
    "\n",
    "        with tf.GradientTape() as tape:\n",
    "            # Forward pass\n",
    "            z1 = tf.matmul(x_batch, W1) + b1        # shape: [batch, hidden]\n",
    "            a1 = relu(z1)                           # apply ReLU\n",
    "            z2 = tf.matmul(a1, W2) + b2             # shape: [batch, output]\n",
    "            y_pred = softmax(z2)                    # output probabilities\n",
    "\n",
    "            # Loss (categorical cross-entropy)\n",
    "            loss = tf.reduce_mean(\n",
    "                tf.keras.losses.categorical_crossentropy(y_batch, y_pred)\n",
    "            )\n",
    "\n",
    "        # Backward pass (automatic differentiation)\n",
    "        grads = tape.gradient(loss, [W1, b1, W2, b2])\n",
    "\n",
    "        # Update weights\n",
    "        W1.assign_sub(learning_rate * grads[0])\n",
    "        b1.assign_sub(learning_rate * grads[1])\n",
    "        W2.assign_sub(learning_rate * grads[2])\n",
    "        b2.assign_sub(learning_rate * grads[3])\n",
    "\n",
    "        # Accuracy\n",
    "        preds = tf.argmax(y_pred, axis=1).numpy()\n",
    "        labels = tf.argmax(y_batch, axis=1).numpy()\n",
    "        acc = np.mean(preds == labels)\n",
    "        total_correct += acc * x_batch.shape[0]\n",
    "        total_samples += x_batch.shape[0]\n",
    "\n",
    "    print(f\"Epoch {epoch+1}: Accuracy = {(total_correct / total_samples) * 100:.2f}%\")"
   ]
  },
  {
   "cell_type": "code",
   "execution_count": null,
   "id": "c64403f8-19e8-45ee-b2c2-1bf7b0bde7f1",
   "metadata": {},
   "outputs": [],
   "source": []
  }
 ],
 "metadata": {
  "kernelspec": {
   "display_name": "Python 3 (ipykernel)",
   "language": "python",
   "name": "python3"
  },
  "language_info": {
   "codemirror_mode": {
    "name": "ipython",
    "version": 3
   },
   "file_extension": ".py",
   "mimetype": "text/x-python",
   "name": "python",
   "nbconvert_exporter": "python",
   "pygments_lexer": "ipython3",
   "version": "3.8.18"
  }
 },
 "nbformat": 4,
 "nbformat_minor": 5
}
