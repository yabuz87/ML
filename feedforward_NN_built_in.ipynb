{
 "cells": [
  {
   "cell_type": "code",
   "execution_count": 1,
   "id": "2d610c53-4a92-4f4d-9854-0e04eb69893e",
   "metadata": {},
   "outputs": [],
   "source": [
    "import numpy as np\n",
    "import tensorflow as tf\n",
    "from tensorflow.keras.datasets import mnist\n",
    "from tensorflow.keras.utils import to_categorical\n",
    "from tensorflow.keras.models import Sequential\n",
    "from tensorflow.keras.layers import Dense, Input\n",
    "from tensorflow.keras.optimizers import SGD"
   ]
  },
  {
   "cell_type": "code",
   "execution_count": 2,
   "id": "3c0a4080-8ffd-47fa-8f55-90841e92d771",
   "metadata": {},
   "outputs": [],
   "source": [
    "# Load and preprocess data\n",
    "(x_train, y_train), _ = mnist.load_data()\n",
    "x_train = x_train.reshape(-1, 784).astype(np.float32) / 255.0  # Normalize and flatten\n",
    "y_train = to_categorical(y_train, 10)  # One-hot encode labels"
   ]
  },
  {
   "cell_type": "code",
   "execution_count": 3,
   "id": "d05e023f-ddfe-4671-b66f-44e9f9a6f706",
   "metadata": {},
   "outputs": [],
   "source": [
    "# Build the model\n",
    "model = Sequential([\n",
    "    Input(shape=(784,)),          # Input layer with 784 features (28x28)\n",
    "    Dense(128, activation='relu'),# Hidden layer with 128 units + ReLU\n",
    "    Dense(10, activation='softmax') # Output layer with 10 units + Softmax\n",
    "])\n"
   ]
  },
  {
   "cell_type": "code",
   "execution_count": 4,
   "id": "e3a24f0e-aa27-467b-9773-19e960828c2b",
   "metadata": {},
   "outputs": [],
   "source": [
    "# Compile the model\n",
    "model.compile(\n",
    "    optimizer=SGD(learning_rate=0.01),                 # Stochastic Gradient Descent\n",
    "    loss='categorical_crossentropy',                  # For classification\n",
    "    metrics=['accuracy']                              # Track accuracy\n",
    ")\n"
   ]
  },
  {
   "cell_type": "code",
   "execution_count": 5,
   "id": "4751cab0-8cd1-42e4-83fd-37f5b49d60e9",
   "metadata": {},
   "outputs": [
    {
     "name": "stdout",
     "output_type": "stream",
     "text": [
      "Epoch 1/7\n",
      "938/938 [==============================] - 6s 5ms/step - loss: 0.8559 - accuracy: 0.7946\n",
      "Epoch 2/7\n",
      "938/938 [==============================] - 5s 5ms/step - loss: 0.4182 - accuracy: 0.8890\n",
      "Epoch 3/7\n",
      "938/938 [==============================] - 5s 5ms/step - loss: 0.3529 - accuracy: 0.9023\n",
      "Epoch 4/7\n",
      "938/938 [==============================] - 5s 5ms/step - loss: 0.3195 - accuracy: 0.9113\n",
      "Epoch 5/7\n",
      "938/938 [==============================] - 5s 5ms/step - loss: 0.2971 - accuracy: 0.9169\n",
      "Epoch 6/7\n",
      "938/938 [==============================] - 5s 5ms/step - loss: 0.2795 - accuracy: 0.9217\n",
      "Epoch 7/7\n",
      "938/938 [==============================] - 5s 5ms/step - loss: 0.2649 - accuracy: 0.9261\n",
      "1/1 [==============================] - 0s 242ms/step\n",
      "Predicted labels: [5 0 4 1 9]\n",
      "1875/1875 [==============================] - 8s 4ms/step - loss: 0.2562 - accuracy: 0.9283\n",
      "Accuracy: 92.83%\n"
     ]
    }
   ],
   "source": [
    "# Train the model\n",
    "model.fit(x_train, y_train, batch_size=64, epochs=7)\n",
    "# Predict on new images\n",
    "preds = model.predict(x_train[:5])\n",
    "print(\"Predicted labels:\", np.argmax(preds, axis=1))\n",
    "\n",
    "# Evaluate model performance\n",
    "loss, acc = model.evaluate(x_train, y_train)\n",
    "print(f\"Accuracy: {acc*100:.2f}%\")"
   ]
  },
  {
   "cell_type": "code",
   "execution_count": null,
   "id": "109a0870-56fd-49b1-9d2e-c2fec68a82a0",
   "metadata": {},
   "outputs": [],
   "source": []
  }
 ],
 "metadata": {
  "kernelspec": {
   "display_name": "Python 3 (ipykernel)",
   "language": "python",
   "name": "python3"
  },
  "language_info": {
   "codemirror_mode": {
    "name": "ipython",
    "version": 3
   },
   "file_extension": ".py",
   "mimetype": "text/x-python",
   "name": "python",
   "nbconvert_exporter": "python",
   "pygments_lexer": "ipython3",
   "version": "3.8.18"
  }
 },
 "nbformat": 4,
 "nbformat_minor": 5
}
